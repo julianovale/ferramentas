{
  "nbformat": 4,
  "nbformat_minor": 0,
  "metadata": {
    "colab": {
      "name": "Beautiful_Soup_WebScraping.ipynb",
      "provenance": [],
      "collapsed_sections": [],
      "authorship_tag": "ABX9TyOjkPRLDguJhKSMTVC2GHvO",
      "include_colab_link": true
    },
    "kernelspec": {
      "name": "python3",
      "display_name": "Python 3"
    },
    "language_info": {
      "name": "python"
    }
  },
  "cells": [
    {
      "cell_type": "markdown",
      "metadata": {
        "id": "view-in-github",
        "colab_type": "text"
      },
      "source": [
        "<a href=\"https://colab.research.google.com/github/julianovale/ferramentas/blob/main/Beautiful_Soup_WebScraping.ipynb\" target=\"_parent\"><img src=\"https://colab.research.google.com/assets/colab-badge.svg\" alt=\"Open In Colab\"/></a>"
      ]
    },
    {
      "cell_type": "code",
      "execution_count": 1,
      "metadata": {
        "id": "3v1SzCabgng_"
      },
      "outputs": [],
      "source": [
        "import requests\n",
        "from bs4 import BeautifulSoup\n",
        "import pandas as pd"
      ]
    },
    {
      "cell_type": "markdown",
      "source": [
        "Página: https://statisticstimes.com/tech/top-computer-languages.php"
      ],
      "metadata": {
        "id": "x3ZoKgU5hohx"
      }
    },
    {
      "cell_type": "code",
      "source": [
        "# coletando a página\n",
        "\n",
        "html = requests.get(\"https://statisticstimes.com/tech/top-computer-languages.php\").content # não esqueça o .content\n",
        "soup = BeautifulSoup(html, 'html5lib')"
      ],
      "metadata": {
        "id": "j1k8gnKuhUcC"
      },
      "execution_count": 2,
      "outputs": []
    },
    {
      "cell_type": "code",
      "source": [
        "# para parágrafo a tag é \"p\"\n",
        "\n",
        "primeiro_paragrafo = soup.find('p')\n",
        "primeiro_paragrafo"
      ],
      "metadata": {
        "colab": {
          "base_uri": "https://localhost:8080/"
        },
        "id": "FXI4glPXiRSv",
        "outputId": "f19f6529-f70b-4b19-dca9-7b4e81864fac"
      },
      "execution_count": 3,
      "outputs": [
        {
          "output_type": "execute_result",
          "data": {
            "text/plain": [
              "<p>Python is the top programming language in TIOBE and PYPL Index. C and Java closely follow Top-ranked Python in TIOBE. \n",
              "In PYPL, a gap is wider as top-ranked Python has taken a lead of close to 12% from 2nd ranked Java.</p>"
            ]
          },
          "metadata": {},
          "execution_count": 3
        }
      ]
    },
    {
      "cell_type": "code",
      "source": [
        "primeiro_paragrafo.text"
      ],
      "metadata": {
        "colab": {
          "base_uri": "https://localhost:8080/",
          "height": 52
        },
        "id": "LWphPZzLi21J",
        "outputId": "850da609-980e-45dd-835b-78b18359d2f3"
      },
      "execution_count": 4,
      "outputs": [
        {
          "output_type": "execute_result",
          "data": {
            "application/vnd.google.colaboratory.intrinsic+json": {
              "type": "string"
            },
            "text/plain": [
              "'Python is the top programming language in TIOBE and PYPL Index. C and Java closely follow Top-ranked Python in TIOBE. \\nIn PYPL, a gap is wider as top-ranked Python has taken a lead of close to 12% from 2nd ranked Java.'"
            ]
          },
          "metadata": {},
          "execution_count": 4
        }
      ]
    },
    {
      "cell_type": "code",
      "source": [
        "todos_paragrafos = soup.find_all('p')\n",
        "todos_paragrafos"
      ],
      "metadata": {
        "colab": {
          "base_uri": "https://localhost:8080/"
        },
        "id": "Qz_YCtaMi7L6",
        "outputId": "15e1049a-9fdf-451a-de90-2f57e6abfc6e"
      },
      "execution_count": 5,
      "outputs": [
        {
          "output_type": "execute_result",
          "data": {
            "text/plain": [
              "[<p>Python is the top programming language in TIOBE and PYPL Index. C and Java closely follow Top-ranked Python in TIOBE. \n",
              " In PYPL, a gap is wider as top-ranked Python has taken a lead of close to 12% from 2nd ranked Java.</p>,\n",
              " <p><b>TIOBE:</b> Python has overtaken C at 1st position in oct 2021. Python, C and Java are way ahead of others in TIOBE Index. \n",
              " C++ is at 4th while C# and Visual Basic .NET are very close to each other at 5th and 6th number. These five have negative\n",
              " trends in the past five years: Java, C, C++, C#, and PHP. PHP was at 3rd position in Mar 2010 is now at 12th. \n",
              " Positions of Java, C, and C++ have not been much affected, but their ratings are constantly declining. The rating\n",
              " of Java has declined from 26.49% in June 2001 to 10.12% in Dec 2021.</p>,\n",
              " <p><b>PYPL:</b> Acc to PYPL, which publishes separate ranking for five countries, Python is the top language in all five countries\n",
              " (US, India, Germany, United Kingdom, France). Python has taken a huge lead in these five countries over the 2nd number\n",
              " of Java, and its shares are even almost double of Java in four countries except India. These two account for almost\n",
              " half (48%) of the global search. JavaScript has attained its all time highest share\n",
              " of 9.2% in Dec 2021. JavaScript is at 3rd position in US, India and Germany.</p>,\n",
              " <p>PHP is the biggest loser in recent years in PYPL. Its share was over 20% in 2008; now, this fig is only 5.76% in 2021. \n",
              " Java is too declining but not as fast as PHP. Java's contribution was over 31% in 2008, and still, it holds 18%. In \n",
              " 2004-2009, 50% of the search was of either Java or PHP.</p>,\n",
              " <p><b>TIOBE Index:</b> TIOBE ratings are calculated by counting hits of the most popular search engines. Twenty-five \n",
              " search engines are used to calculate the TIOBE index. The TIOBE Programming Community index is an indicator of the\n",
              "  popularity of programming languages. The index started in the year 2001 and updated once a month.</p>,\n",
              " <p><b>PYPL Index:</b> The PYPL PopularitY of Programming Language Index is created by analyzing how often language\n",
              "  tutorials are searched on Google. The index is updated once a month.</p>]"
            ]
          },
          "metadata": {},
          "execution_count": 5
        }
      ]
    },
    {
      "cell_type": "code",
      "source": [
        "todos_paragrafos[4]"
      ],
      "metadata": {
        "colab": {
          "base_uri": "https://localhost:8080/"
        },
        "id": "Ac4RyG8BjM8L",
        "outputId": "3e4d500f-f167-4c22-b04f-1f8da8bb26f4"
      },
      "execution_count": 6,
      "outputs": [
        {
          "output_type": "execute_result",
          "data": {
            "text/plain": [
              "<p><b>TIOBE Index:</b> TIOBE ratings are calculated by counting hits of the most popular search engines. Twenty-five \n",
              "search engines are used to calculate the TIOBE index. The TIOBE Programming Community index is an indicator of the\n",
              " popularity of programming languages. The index started in the year 2001 and updated once a month.</p>"
            ]
          },
          "metadata": {},
          "execution_count": 6
        }
      ]
    },
    {
      "cell_type": "code",
      "source": [
        "todos_paragrafos[4].text"
      ],
      "metadata": {
        "colab": {
          "base_uri": "https://localhost:8080/",
          "height": 52
        },
        "id": "qrPJoPA7jPYt",
        "outputId": "a12b6dd3-25bf-49be-d13c-e2b4202ae28f"
      },
      "execution_count": 7,
      "outputs": [
        {
          "output_type": "execute_result",
          "data": {
            "application/vnd.google.colaboratory.intrinsic+json": {
              "type": "string"
            },
            "text/plain": [
              "'TIOBE Index: TIOBE ratings are calculated by counting hits of the most popular search engines. Twenty-five \\nsearch engines are used to calculate the TIOBE index. The TIOBE Programming Community index is an indicator of the\\n popularity of programming languages. The index started in the year 2001 and updated once a month.'"
            ]
          },
          "metadata": {},
          "execution_count": 7
        }
      ]
    },
    {
      "cell_type": "code",
      "source": [
        "# vamos pegar todos os links: a tag para link é 'a'\n",
        "\n",
        "todos_links = soup.find_all('a')\n",
        "todos_links"
      ],
      "metadata": {
        "colab": {
          "base_uri": "https://localhost:8080/"
        },
        "id": "BpYiezLLjfCI",
        "outputId": "b0e16c51-2848-418d-e752-ced7eb2aa8d8"
      },
      "execution_count": 8,
      "outputs": [
        {
          "output_type": "execute_result",
          "data": {
            "text/plain": [
              "[<a href=\"/index.php\">\n",
              " <img alt=\"statisticstimes\" height=\"90\" src=\"/statistics.png\" width=\"200\"/>\n",
              " </a>,\n",
              " <a href=\"/index.php\">World</a>,\n",
              " <a href=\"/india.php\">India</a>,\n",
              " <a href=\"/economy/world-statistics.php\">World</a>,\n",
              " <a href=\"/economy/country-statistics.php\">Country</a>,\n",
              " <a href=\"/economy/india-statistics.php\">India</a>,\n",
              " <a href=\"/demographics/world-statistics.php\">World</a>,\n",
              " <a href=\"/demographics/country-statistics.php\">Country</a>,\n",
              " <a href=\"/demographics/india-statistics.php\">India</a>,\n",
              " <a href=\"/health/coronavirus-statistics.php\">Coronavirus</a>,\n",
              " <a href=\"/politics/india-statistics.php\">India</a>,\n",
              " <a href=\"/geography/world-statistics.php\">World</a>,\n",
              " <a href=\"/geography/india-statistics.php\">India</a>,\n",
              " <a href=\"/tech/world-statistics.php\">Tech</a>,\n",
              " <a href=\"/sports/world-statistics.php\">World</a>,\n",
              " <a href=\"/sports/india-statistics.php\">India</a>,\n",
              " <a href=\"/ranking/world-statistics.php\">Ranking</a>,\n",
              " <a href=\"/article/world-statistics.php\">World</a>,\n",
              " <a href=\"/article/india-statistics.php\">India</a>,\n",
              " <a href=\"https://www.tiobe.com/tiobe-index/\" target=\"_blank\">TIOBE Index</a>,\n",
              " <a href=\"http://pypl.github.io/PYPL.html\" target=\"_blank\">PYPL PopularitY of Programming Language Index</a>,\n",
              " <a class=\"ls\" href=\"/sports/olympics/olympics-medal-table.php\">\n",
              "        Olympics Medal Table 2020</a>,\n",
              " <a class=\"ls\" href=\"/economy/continents-by-gdp-per-capita.php\">\n",
              "        List of continents by gdp per capita</a>,\n",
              " <a class=\"ls\" href=\"/demographics/world-urban-population.php\">\n",
              "        World urban population</a>,\n",
              " <a href=\"/about.php\" style=\"text-decoration: none;\"> About US</a>,\n",
              " <a href=\"/termsofuse.php\" style=\"text-decoration: none;\"> Terms Of Use </a>,\n",
              " <a href=\"/privacy.php\" style=\"text-decoration: none;\"> Privacy Policy </a>,\n",
              " <a href=\"/contact.php\" style=\"text-decoration: none;\"> Contact Us </a>]"
            ]
          },
          "metadata": {},
          "execution_count": 8
        }
      ]
    },
    {
      "cell_type": "code",
      "source": [
        "todos_links[10]"
      ],
      "metadata": {
        "colab": {
          "base_uri": "https://localhost:8080/"
        },
        "id": "4faRCRglj36K",
        "outputId": "68fde2a2-7742-44e7-8293-4da8f181a207"
      },
      "execution_count": 9,
      "outputs": [
        {
          "output_type": "execute_result",
          "data": {
            "text/plain": [
              "<a href=\"/politics/india-statistics.php\">India</a>"
            ]
          },
          "metadata": {},
          "execution_count": 9
        }
      ]
    },
    {
      "cell_type": "code",
      "source": [
        "# inspecionando e capturando tabela:\n",
        "\n",
        "tabela = soup.find('table',{'id' : 'table_id1'}).find('tbody')\n",
        "tabela"
      ],
      "metadata": {
        "colab": {
          "base_uri": "https://localhost:8080/"
        },
        "id": "qnRjUNzWj82V",
        "outputId": "0e0f985e-8896-4065-9c77-96f79f86af1e"
      },
      "execution_count": 10,
      "outputs": [
        {
          "output_type": "execute_result",
          "data": {
            "text/plain": [
              "<tbody>\n",
              "<tr><td class=\"data1\">1</td><td class=\"data1\"></td><td class=\"name\">Python</td><td class=\"data1\"> 30.21 %</td><td class=\"data1\">-0.5 %</td></tr>\n",
              "<tr><td class=\"data1\">2</td><td class=\"data1\"></td><td class=\"name\">Java</td><td class=\"data1\"> 17.82 %</td><td class=\"data1\">+1.3 %</td></tr>\n",
              "<tr><td class=\"data1\">3</td><td class=\"data1\"></td><td class=\"name\">JavaScript</td><td class=\"data1\"> 9.16 %</td><td class=\"data1\">+0.6 %</td></tr>\n",
              "<tr><td class=\"data1\">4</td><td class=\"data1\"></td><td class=\"name\">C#</td><td class=\"data1\"> 7.53 %</td><td class=\"data1\">+1.0 %</td></tr>\n",
              "<tr><td class=\"data1\">5</td><td class=\"data1\"></td><td class=\"name\">C/C++</td><td class=\"data1\"> 6.82 %</td><td class=\"data1\">+0.6 %</td></tr>\n",
              "<tr><td class=\"data1\">6</td><td class=\"data1\"></td><td class=\"name\">PHP</td><td class=\"data1\"> 5.84 %</td><td class=\"data1\">-0.2 %</td></tr>\n",
              "<tr><td class=\"data1\">7</td><td class=\"data1\"></td><td class=\"name\">R</td><td class=\"data1\"> 3.81 %</td><td class=\"data1\">-0.0 %</td></tr>\n",
              "<tr><td class=\"data1\">8</td><td class=\"data1\">↑</td><td class=\"name\">Swift</td><td class=\"data1\"> 2.03 %</td><td class=\"data1\">-0.2 %</td></tr>\n",
              "<tr><td class=\"data1\">9</td><td class=\"data1\">↓</td><td class=\"name\">Objective-C</td><td class=\"data1\"> 2.02 %</td><td class=\"data1\">-1.6 %</td></tr>\n",
              "<tr><td class=\"data1\">10</td><td class=\"data1\">↑</td><td class=\"name\">Matlab</td><td class=\"data1\"> 1.73 %</td><td class=\"data1\">-0.1 %</td></tr>\n",
              "<tr><td class=\"data1\">11</td><td class=\"data1\">↓</td><td class=\"name\">TypeScript</td><td class=\"data1\"> 1.63 %</td><td class=\"data1\">-0.2 %</td></tr>\n",
              "<tr><td class=\"data1\">12</td><td class=\"data1\">↑</td><td class=\"name\">Go</td><td class=\"data1\"> 1.52 %</td><td class=\"data1\">+0.2 %</td></tr>\n",
              "<tr><td class=\"data1\">13</td><td class=\"data1\">↓</td><td class=\"name\">Kotlin</td><td class=\"data1\"> 1.44 %</td><td class=\"data1\">-0.2 %</td></tr>\n",
              "<tr><td class=\"data1\">14</td><td class=\"data1\"></td><td class=\"name\">VBA</td><td class=\"data1\"> 1.27 %</td><td class=\"data1\">+0.1 %</td></tr>\n",
              "<tr><td class=\"data1\">15</td><td class=\"data1\">↑</td><td class=\"name\">Rust</td><td class=\"data1\"> 0.94 %</td><td class=\"data1\">-0.2 %</td></tr>\n",
              "<tr><td class=\"data1\">16</td><td class=\"data1\">↓</td><td class=\"name\">Ruby</td><td class=\"data1\"> 0.89 %</td><td class=\"data1\">-0.2 %</td></tr>\n",
              "<tr><td class=\"data1\">17</td><td class=\"data1\">↑↑</td><td class=\"name\">Ada</td><td class=\"data1\"> 0.86 %</td><td class=\"data1\">+0.2 %</td></tr>\n",
              "<tr><td class=\"data1\">18</td><td class=\"data1\"></td><td class=\"name\">Scala</td><td class=\"data1\"> 0.63 %</td><td class=\"data1\">-0.1 %</td></tr>\n",
              "<tr><td class=\"data1\">19</td><td class=\"data1\">↑↑</td><td class=\"name\">Dart</td><td class=\"data1\"> 0.61 %</td><td class=\"data1\">+0.0 %</td></tr>\n",
              "<tr><td class=\"data1\">20</td><td class=\"data1\">↑↑↑</td><td class=\"name\">Abap</td><td class=\"data1\"> 0.55 %</td><td class=\"data1\">+0.1 %</td></tr>\n",
              "<tr><td class=\"data1\">21</td><td class=\"data1\">↓↓↓↓</td><td class=\"name\">Visual Basic</td><td class=\"data1\"> 0.53 %</td><td class=\"data1\">-0.2 %</td></tr>\n",
              "<tr><td class=\"data1\">22</td><td class=\"data1\">↑↑↑</td><td class=\"name\">Groovy</td><td class=\"data1\"> 0.48 %</td><td class=\"data1\">+0.1 %</td></tr>\n",
              "<tr><td class=\"data1\">23</td><td class=\"data1\">↓↓↓</td><td class=\"name\">Lua</td><td class=\"data1\"> 0.47 %</td><td class=\"data1\">-0.2 %</td></tr>\n",
              "<tr><td class=\"data1\">24</td><td class=\"data1\"></td><td class=\"name\">Julia</td><td class=\"data1\"> 0.36 %</td><td class=\"data1\">-0.0 %</td></tr>\n",
              "<tr><td class=\"data1\">25</td><td class=\"data1\">↓↓↓</td><td class=\"name\">Perl</td><td class=\"data1\"> 0.3 %</td><td class=\"data1\">-0.2 %</td></tr>\n",
              "<tr><td class=\"data1\">26</td><td class=\"data1\">↑</td><td class=\"name\">Haskell</td><td class=\"data1\"> 0.28 %</td><td class=\"data1\">+0.0 %</td></tr>\n",
              "<tr><td class=\"data1\">27</td><td class=\"data1\">↓</td><td class=\"name\">Cobol</td><td class=\"data1\"> 0.26 %</td><td class=\"data1\">-0.1 %</td></tr>\n",
              "</tbody>"
            ]
          },
          "metadata": {},
          "execution_count": 10
        }
      ]
    },
    {
      "cell_type": "code",
      "source": [
        "linhas = tabela.find_all('tr')\n",
        "for linha in linhas:\n",
        "    dado = linha.find_all('td')\n",
        "    print(dado[0].text)\n",
        "    print(dado[2].text)\n",
        "    print(dado[3].text)\n",
        "    print('------------')"
      ],
      "metadata": {
        "colab": {
          "base_uri": "https://localhost:8080/"
        },
        "id": "NGpjuTZrlXv8",
        "outputId": "52220f62-91ba-426c-c4a5-afe1cfdd040d"
      },
      "execution_count": 11,
      "outputs": [
        {
          "output_type": "stream",
          "name": "stdout",
          "text": [
            "1\n",
            "Python\n",
            " 30.21 %\n",
            "------------\n",
            "2\n",
            "Java\n",
            " 17.82 %\n",
            "------------\n",
            "3\n",
            "JavaScript\n",
            " 9.16 %\n",
            "------------\n",
            "4\n",
            "C#\n",
            " 7.53 %\n",
            "------------\n",
            "5\n",
            "C/C++\n",
            " 6.82 %\n",
            "------------\n",
            "6\n",
            "PHP\n",
            " 5.84 %\n",
            "------------\n",
            "7\n",
            "R\n",
            " 3.81 %\n",
            "------------\n",
            "8\n",
            "Swift\n",
            " 2.03 %\n",
            "------------\n",
            "9\n",
            "Objective-C\n",
            " 2.02 %\n",
            "------------\n",
            "10\n",
            "Matlab\n",
            " 1.73 %\n",
            "------------\n",
            "11\n",
            "TypeScript\n",
            " 1.63 %\n",
            "------------\n",
            "12\n",
            "Go\n",
            " 1.52 %\n",
            "------------\n",
            "13\n",
            "Kotlin\n",
            " 1.44 %\n",
            "------------\n",
            "14\n",
            "VBA\n",
            " 1.27 %\n",
            "------------\n",
            "15\n",
            "Rust\n",
            " 0.94 %\n",
            "------------\n",
            "16\n",
            "Ruby\n",
            " 0.89 %\n",
            "------------\n",
            "17\n",
            "Ada\n",
            " 0.86 %\n",
            "------------\n",
            "18\n",
            "Scala\n",
            " 0.63 %\n",
            "------------\n",
            "19\n",
            "Dart\n",
            " 0.61 %\n",
            "------------\n",
            "20\n",
            "Abap\n",
            " 0.55 %\n",
            "------------\n",
            "21\n",
            "Visual Basic\n",
            " 0.53 %\n",
            "------------\n",
            "22\n",
            "Groovy\n",
            " 0.48 %\n",
            "------------\n",
            "23\n",
            "Lua\n",
            " 0.47 %\n",
            "------------\n",
            "24\n",
            "Julia\n",
            " 0.36 %\n",
            "------------\n",
            "25\n",
            "Perl\n",
            " 0.3 %\n",
            "------------\n",
            "26\n",
            "Haskell\n",
            " 0.28 %\n",
            "------------\n",
            "27\n",
            "Cobol\n",
            " 0.26 %\n",
            "------------\n"
          ]
        }
      ]
    },
    {
      "cell_type": "code",
      "source": [
        "linguagem = []\n",
        "pontos = []\n",
        "for linha in linhas:\n",
        "    dado=linha.find_all('td')\n",
        "    linguagem.append(dado[2].text)\n",
        "    pontos.append(dado[3].text)"
      ],
      "metadata": {
        "id": "6IeWjfpdl27e"
      },
      "execution_count": 12,
      "outputs": []
    },
    {
      "cell_type": "code",
      "source": [
        "print(linguagem)"
      ],
      "metadata": {
        "colab": {
          "base_uri": "https://localhost:8080/"
        },
        "id": "mv3I17w1mM3B",
        "outputId": "cc36099b-8bc8-4386-d939-6c6501a58e17"
      },
      "execution_count": 13,
      "outputs": [
        {
          "output_type": "stream",
          "name": "stdout",
          "text": [
            "['Python', 'Java', 'JavaScript', 'C#', 'C/C++', 'PHP', 'R', 'Swift', 'Objective-C', 'Matlab', 'TypeScript', 'Go', 'Kotlin', 'VBA', 'Rust', 'Ruby', 'Ada', 'Scala', 'Dart', 'Abap', 'Visual Basic', 'Groovy', 'Lua', 'Julia', 'Perl', 'Haskell', 'Cobol']\n"
          ]
        }
      ]
    },
    {
      "cell_type": "code",
      "source": [
        "print(pontos)"
      ],
      "metadata": {
        "colab": {
          "base_uri": "https://localhost:8080/"
        },
        "id": "UV0Rr7oMmP4S",
        "outputId": "2d2a4490-0995-4517-d505-4527dc6798eb"
      },
      "execution_count": 14,
      "outputs": [
        {
          "output_type": "stream",
          "name": "stdout",
          "text": [
            "[' 30.21 %', ' 17.82 %', ' 9.16 %', ' 7.53 %', ' 6.82 %', ' 5.84 %', ' 3.81 %', ' 2.03 %', ' 2.02 %', ' 1.73 %', ' 1.63 %', ' 1.52 %', ' 1.44 %', ' 1.27 %', ' 0.94 %', ' 0.89 %', ' 0.86 %', ' 0.63 %', ' 0.61 %', ' 0.55 %', ' 0.53 %', ' 0.48 %', ' 0.47 %', ' 0.36 %', ' 0.3 %', ' 0.28 %', ' 0.26 %']\n"
          ]
        }
      ]
    },
    {
      "cell_type": "code",
      "source": [
        "df = pd.DataFrame(linguagem, columns=['Linguagem'])\n",
        "df"
      ],
      "metadata": {
        "colab": {
          "base_uri": "https://localhost:8080/",
          "height": 896
        },
        "id": "he9ED31kmRwm",
        "outputId": "d5519cd0-4e0d-4c99-e8fb-c945f3d381f1"
      },
      "execution_count": 15,
      "outputs": [
        {
          "output_type": "execute_result",
          "data": {
            "text/html": [
              "\n",
              "  <div id=\"df-ce8e984a-96b4-4c45-8ed8-5e2548617eae\">\n",
              "    <div class=\"colab-df-container\">\n",
              "      <div>\n",
              "<style scoped>\n",
              "    .dataframe tbody tr th:only-of-type {\n",
              "        vertical-align: middle;\n",
              "    }\n",
              "\n",
              "    .dataframe tbody tr th {\n",
              "        vertical-align: top;\n",
              "    }\n",
              "\n",
              "    .dataframe thead th {\n",
              "        text-align: right;\n",
              "    }\n",
              "</style>\n",
              "<table border=\"1\" class=\"dataframe\">\n",
              "  <thead>\n",
              "    <tr style=\"text-align: right;\">\n",
              "      <th></th>\n",
              "      <th>Linguagem</th>\n",
              "    </tr>\n",
              "  </thead>\n",
              "  <tbody>\n",
              "    <tr>\n",
              "      <th>0</th>\n",
              "      <td>Python</td>\n",
              "    </tr>\n",
              "    <tr>\n",
              "      <th>1</th>\n",
              "      <td>Java</td>\n",
              "    </tr>\n",
              "    <tr>\n",
              "      <th>2</th>\n",
              "      <td>JavaScript</td>\n",
              "    </tr>\n",
              "    <tr>\n",
              "      <th>3</th>\n",
              "      <td>C#</td>\n",
              "    </tr>\n",
              "    <tr>\n",
              "      <th>4</th>\n",
              "      <td>C/C++</td>\n",
              "    </tr>\n",
              "    <tr>\n",
              "      <th>5</th>\n",
              "      <td>PHP</td>\n",
              "    </tr>\n",
              "    <tr>\n",
              "      <th>6</th>\n",
              "      <td>R</td>\n",
              "    </tr>\n",
              "    <tr>\n",
              "      <th>7</th>\n",
              "      <td>Swift</td>\n",
              "    </tr>\n",
              "    <tr>\n",
              "      <th>8</th>\n",
              "      <td>Objective-C</td>\n",
              "    </tr>\n",
              "    <tr>\n",
              "      <th>9</th>\n",
              "      <td>Matlab</td>\n",
              "    </tr>\n",
              "    <tr>\n",
              "      <th>10</th>\n",
              "      <td>TypeScript</td>\n",
              "    </tr>\n",
              "    <tr>\n",
              "      <th>11</th>\n",
              "      <td>Go</td>\n",
              "    </tr>\n",
              "    <tr>\n",
              "      <th>12</th>\n",
              "      <td>Kotlin</td>\n",
              "    </tr>\n",
              "    <tr>\n",
              "      <th>13</th>\n",
              "      <td>VBA</td>\n",
              "    </tr>\n",
              "    <tr>\n",
              "      <th>14</th>\n",
              "      <td>Rust</td>\n",
              "    </tr>\n",
              "    <tr>\n",
              "      <th>15</th>\n",
              "      <td>Ruby</td>\n",
              "    </tr>\n",
              "    <tr>\n",
              "      <th>16</th>\n",
              "      <td>Ada</td>\n",
              "    </tr>\n",
              "    <tr>\n",
              "      <th>17</th>\n",
              "      <td>Scala</td>\n",
              "    </tr>\n",
              "    <tr>\n",
              "      <th>18</th>\n",
              "      <td>Dart</td>\n",
              "    </tr>\n",
              "    <tr>\n",
              "      <th>19</th>\n",
              "      <td>Abap</td>\n",
              "    </tr>\n",
              "    <tr>\n",
              "      <th>20</th>\n",
              "      <td>Visual Basic</td>\n",
              "    </tr>\n",
              "    <tr>\n",
              "      <th>21</th>\n",
              "      <td>Groovy</td>\n",
              "    </tr>\n",
              "    <tr>\n",
              "      <th>22</th>\n",
              "      <td>Lua</td>\n",
              "    </tr>\n",
              "    <tr>\n",
              "      <th>23</th>\n",
              "      <td>Julia</td>\n",
              "    </tr>\n",
              "    <tr>\n",
              "      <th>24</th>\n",
              "      <td>Perl</td>\n",
              "    </tr>\n",
              "    <tr>\n",
              "      <th>25</th>\n",
              "      <td>Haskell</td>\n",
              "    </tr>\n",
              "    <tr>\n",
              "      <th>26</th>\n",
              "      <td>Cobol</td>\n",
              "    </tr>\n",
              "  </tbody>\n",
              "</table>\n",
              "</div>\n",
              "      <button class=\"colab-df-convert\" onclick=\"convertToInteractive('df-ce8e984a-96b4-4c45-8ed8-5e2548617eae')\"\n",
              "              title=\"Convert this dataframe to an interactive table.\"\n",
              "              style=\"display:none;\">\n",
              "        \n",
              "  <svg xmlns=\"http://www.w3.org/2000/svg\" height=\"24px\"viewBox=\"0 0 24 24\"\n",
              "       width=\"24px\">\n",
              "    <path d=\"M0 0h24v24H0V0z\" fill=\"none\"/>\n",
              "    <path d=\"M18.56 5.44l.94 2.06.94-2.06 2.06-.94-2.06-.94-.94-2.06-.94 2.06-2.06.94zm-11 1L8.5 8.5l.94-2.06 2.06-.94-2.06-.94L8.5 2.5l-.94 2.06-2.06.94zm10 10l.94 2.06.94-2.06 2.06-.94-2.06-.94-.94-2.06-.94 2.06-2.06.94z\"/><path d=\"M17.41 7.96l-1.37-1.37c-.4-.4-.92-.59-1.43-.59-.52 0-1.04.2-1.43.59L10.3 9.45l-7.72 7.72c-.78.78-.78 2.05 0 2.83L4 21.41c.39.39.9.59 1.41.59.51 0 1.02-.2 1.41-.59l7.78-7.78 2.81-2.81c.8-.78.8-2.07 0-2.86zM5.41 20L4 18.59l7.72-7.72 1.47 1.35L5.41 20z\"/>\n",
              "  </svg>\n",
              "      </button>\n",
              "      \n",
              "  <style>\n",
              "    .colab-df-container {\n",
              "      display:flex;\n",
              "      flex-wrap:wrap;\n",
              "      gap: 12px;\n",
              "    }\n",
              "\n",
              "    .colab-df-convert {\n",
              "      background-color: #E8F0FE;\n",
              "      border: none;\n",
              "      border-radius: 50%;\n",
              "      cursor: pointer;\n",
              "      display: none;\n",
              "      fill: #1967D2;\n",
              "      height: 32px;\n",
              "      padding: 0 0 0 0;\n",
              "      width: 32px;\n",
              "    }\n",
              "\n",
              "    .colab-df-convert:hover {\n",
              "      background-color: #E2EBFA;\n",
              "      box-shadow: 0px 1px 2px rgba(60, 64, 67, 0.3), 0px 1px 3px 1px rgba(60, 64, 67, 0.15);\n",
              "      fill: #174EA6;\n",
              "    }\n",
              "\n",
              "    [theme=dark] .colab-df-convert {\n",
              "      background-color: #3B4455;\n",
              "      fill: #D2E3FC;\n",
              "    }\n",
              "\n",
              "    [theme=dark] .colab-df-convert:hover {\n",
              "      background-color: #434B5C;\n",
              "      box-shadow: 0px 1px 3px 1px rgba(0, 0, 0, 0.15);\n",
              "      filter: drop-shadow(0px 1px 2px rgba(0, 0, 0, 0.3));\n",
              "      fill: #FFFFFF;\n",
              "    }\n",
              "  </style>\n",
              "\n",
              "      <script>\n",
              "        const buttonEl =\n",
              "          document.querySelector('#df-ce8e984a-96b4-4c45-8ed8-5e2548617eae button.colab-df-convert');\n",
              "        buttonEl.style.display =\n",
              "          google.colab.kernel.accessAllowed ? 'block' : 'none';\n",
              "\n",
              "        async function convertToInteractive(key) {\n",
              "          const element = document.querySelector('#df-ce8e984a-96b4-4c45-8ed8-5e2548617eae');\n",
              "          const dataTable =\n",
              "            await google.colab.kernel.invokeFunction('convertToInteractive',\n",
              "                                                     [key], {});\n",
              "          if (!dataTable) return;\n",
              "\n",
              "          const docLinkHtml = 'Like what you see? Visit the ' +\n",
              "            '<a target=\"_blank\" href=https://colab.research.google.com/notebooks/data_table.ipynb>data table notebook</a>'\n",
              "            + ' to learn more about interactive tables.';\n",
              "          element.innerHTML = '';\n",
              "          dataTable['output_type'] = 'display_data';\n",
              "          await google.colab.output.renderOutput(dataTable, element);\n",
              "          const docLink = document.createElement('div');\n",
              "          docLink.innerHTML = docLinkHtml;\n",
              "          element.appendChild(docLink);\n",
              "        }\n",
              "      </script>\n",
              "    </div>\n",
              "  </div>\n",
              "  "
            ],
            "text/plain": [
              "       Linguagem\n",
              "0         Python\n",
              "1           Java\n",
              "2     JavaScript\n",
              "3             C#\n",
              "4          C/C++\n",
              "5            PHP\n",
              "6              R\n",
              "7          Swift\n",
              "8    Objective-C\n",
              "9         Matlab\n",
              "10    TypeScript\n",
              "11            Go\n",
              "12        Kotlin\n",
              "13           VBA\n",
              "14          Rust\n",
              "15          Ruby\n",
              "16           Ada\n",
              "17         Scala\n",
              "18          Dart\n",
              "19          Abap\n",
              "20  Visual Basic\n",
              "21        Groovy\n",
              "22           Lua\n",
              "23         Julia\n",
              "24          Perl\n",
              "25       Haskell\n",
              "26         Cobol"
            ]
          },
          "metadata": {},
          "execution_count": 15
        }
      ]
    },
    {
      "cell_type": "code",
      "source": [
        "df['pontos'] = pontos"
      ],
      "metadata": {
        "id": "YAtFDoPKmbYH"
      },
      "execution_count": 16,
      "outputs": []
    },
    {
      "cell_type": "code",
      "source": [
        "df"
      ],
      "metadata": {
        "colab": {
          "base_uri": "https://localhost:8080/",
          "height": 896
        },
        "id": "jr18z6Fum3nN",
        "outputId": "b768d9ea-10a5-4368-ee34-dce1342af5ca"
      },
      "execution_count": 17,
      "outputs": [
        {
          "output_type": "execute_result",
          "data": {
            "text/html": [
              "\n",
              "  <div id=\"df-68d1e10a-30ae-49a1-9a14-79093ef1b3e7\">\n",
              "    <div class=\"colab-df-container\">\n",
              "      <div>\n",
              "<style scoped>\n",
              "    .dataframe tbody tr th:only-of-type {\n",
              "        vertical-align: middle;\n",
              "    }\n",
              "\n",
              "    .dataframe tbody tr th {\n",
              "        vertical-align: top;\n",
              "    }\n",
              "\n",
              "    .dataframe thead th {\n",
              "        text-align: right;\n",
              "    }\n",
              "</style>\n",
              "<table border=\"1\" class=\"dataframe\">\n",
              "  <thead>\n",
              "    <tr style=\"text-align: right;\">\n",
              "      <th></th>\n",
              "      <th>Linguagem</th>\n",
              "      <th>pontos</th>\n",
              "    </tr>\n",
              "  </thead>\n",
              "  <tbody>\n",
              "    <tr>\n",
              "      <th>0</th>\n",
              "      <td>Python</td>\n",
              "      <td>30.21 %</td>\n",
              "    </tr>\n",
              "    <tr>\n",
              "      <th>1</th>\n",
              "      <td>Java</td>\n",
              "      <td>17.82 %</td>\n",
              "    </tr>\n",
              "    <tr>\n",
              "      <th>2</th>\n",
              "      <td>JavaScript</td>\n",
              "      <td>9.16 %</td>\n",
              "    </tr>\n",
              "    <tr>\n",
              "      <th>3</th>\n",
              "      <td>C#</td>\n",
              "      <td>7.53 %</td>\n",
              "    </tr>\n",
              "    <tr>\n",
              "      <th>4</th>\n",
              "      <td>C/C++</td>\n",
              "      <td>6.82 %</td>\n",
              "    </tr>\n",
              "    <tr>\n",
              "      <th>5</th>\n",
              "      <td>PHP</td>\n",
              "      <td>5.84 %</td>\n",
              "    </tr>\n",
              "    <tr>\n",
              "      <th>6</th>\n",
              "      <td>R</td>\n",
              "      <td>3.81 %</td>\n",
              "    </tr>\n",
              "    <tr>\n",
              "      <th>7</th>\n",
              "      <td>Swift</td>\n",
              "      <td>2.03 %</td>\n",
              "    </tr>\n",
              "    <tr>\n",
              "      <th>8</th>\n",
              "      <td>Objective-C</td>\n",
              "      <td>2.02 %</td>\n",
              "    </tr>\n",
              "    <tr>\n",
              "      <th>9</th>\n",
              "      <td>Matlab</td>\n",
              "      <td>1.73 %</td>\n",
              "    </tr>\n",
              "    <tr>\n",
              "      <th>10</th>\n",
              "      <td>TypeScript</td>\n",
              "      <td>1.63 %</td>\n",
              "    </tr>\n",
              "    <tr>\n",
              "      <th>11</th>\n",
              "      <td>Go</td>\n",
              "      <td>1.52 %</td>\n",
              "    </tr>\n",
              "    <tr>\n",
              "      <th>12</th>\n",
              "      <td>Kotlin</td>\n",
              "      <td>1.44 %</td>\n",
              "    </tr>\n",
              "    <tr>\n",
              "      <th>13</th>\n",
              "      <td>VBA</td>\n",
              "      <td>1.27 %</td>\n",
              "    </tr>\n",
              "    <tr>\n",
              "      <th>14</th>\n",
              "      <td>Rust</td>\n",
              "      <td>0.94 %</td>\n",
              "    </tr>\n",
              "    <tr>\n",
              "      <th>15</th>\n",
              "      <td>Ruby</td>\n",
              "      <td>0.89 %</td>\n",
              "    </tr>\n",
              "    <tr>\n",
              "      <th>16</th>\n",
              "      <td>Ada</td>\n",
              "      <td>0.86 %</td>\n",
              "    </tr>\n",
              "    <tr>\n",
              "      <th>17</th>\n",
              "      <td>Scala</td>\n",
              "      <td>0.63 %</td>\n",
              "    </tr>\n",
              "    <tr>\n",
              "      <th>18</th>\n",
              "      <td>Dart</td>\n",
              "      <td>0.61 %</td>\n",
              "    </tr>\n",
              "    <tr>\n",
              "      <th>19</th>\n",
              "      <td>Abap</td>\n",
              "      <td>0.55 %</td>\n",
              "    </tr>\n",
              "    <tr>\n",
              "      <th>20</th>\n",
              "      <td>Visual Basic</td>\n",
              "      <td>0.53 %</td>\n",
              "    </tr>\n",
              "    <tr>\n",
              "      <th>21</th>\n",
              "      <td>Groovy</td>\n",
              "      <td>0.48 %</td>\n",
              "    </tr>\n",
              "    <tr>\n",
              "      <th>22</th>\n",
              "      <td>Lua</td>\n",
              "      <td>0.47 %</td>\n",
              "    </tr>\n",
              "    <tr>\n",
              "      <th>23</th>\n",
              "      <td>Julia</td>\n",
              "      <td>0.36 %</td>\n",
              "    </tr>\n",
              "    <tr>\n",
              "      <th>24</th>\n",
              "      <td>Perl</td>\n",
              "      <td>0.3 %</td>\n",
              "    </tr>\n",
              "    <tr>\n",
              "      <th>25</th>\n",
              "      <td>Haskell</td>\n",
              "      <td>0.28 %</td>\n",
              "    </tr>\n",
              "    <tr>\n",
              "      <th>26</th>\n",
              "      <td>Cobol</td>\n",
              "      <td>0.26 %</td>\n",
              "    </tr>\n",
              "  </tbody>\n",
              "</table>\n",
              "</div>\n",
              "      <button class=\"colab-df-convert\" onclick=\"convertToInteractive('df-68d1e10a-30ae-49a1-9a14-79093ef1b3e7')\"\n",
              "              title=\"Convert this dataframe to an interactive table.\"\n",
              "              style=\"display:none;\">\n",
              "        \n",
              "  <svg xmlns=\"http://www.w3.org/2000/svg\" height=\"24px\"viewBox=\"0 0 24 24\"\n",
              "       width=\"24px\">\n",
              "    <path d=\"M0 0h24v24H0V0z\" fill=\"none\"/>\n",
              "    <path d=\"M18.56 5.44l.94 2.06.94-2.06 2.06-.94-2.06-.94-.94-2.06-.94 2.06-2.06.94zm-11 1L8.5 8.5l.94-2.06 2.06-.94-2.06-.94L8.5 2.5l-.94 2.06-2.06.94zm10 10l.94 2.06.94-2.06 2.06-.94-2.06-.94-.94-2.06-.94 2.06-2.06.94z\"/><path d=\"M17.41 7.96l-1.37-1.37c-.4-.4-.92-.59-1.43-.59-.52 0-1.04.2-1.43.59L10.3 9.45l-7.72 7.72c-.78.78-.78 2.05 0 2.83L4 21.41c.39.39.9.59 1.41.59.51 0 1.02-.2 1.41-.59l7.78-7.78 2.81-2.81c.8-.78.8-2.07 0-2.86zM5.41 20L4 18.59l7.72-7.72 1.47 1.35L5.41 20z\"/>\n",
              "  </svg>\n",
              "      </button>\n",
              "      \n",
              "  <style>\n",
              "    .colab-df-container {\n",
              "      display:flex;\n",
              "      flex-wrap:wrap;\n",
              "      gap: 12px;\n",
              "    }\n",
              "\n",
              "    .colab-df-convert {\n",
              "      background-color: #E8F0FE;\n",
              "      border: none;\n",
              "      border-radius: 50%;\n",
              "      cursor: pointer;\n",
              "      display: none;\n",
              "      fill: #1967D2;\n",
              "      height: 32px;\n",
              "      padding: 0 0 0 0;\n",
              "      width: 32px;\n",
              "    }\n",
              "\n",
              "    .colab-df-convert:hover {\n",
              "      background-color: #E2EBFA;\n",
              "      box-shadow: 0px 1px 2px rgba(60, 64, 67, 0.3), 0px 1px 3px 1px rgba(60, 64, 67, 0.15);\n",
              "      fill: #174EA6;\n",
              "    }\n",
              "\n",
              "    [theme=dark] .colab-df-convert {\n",
              "      background-color: #3B4455;\n",
              "      fill: #D2E3FC;\n",
              "    }\n",
              "\n",
              "    [theme=dark] .colab-df-convert:hover {\n",
              "      background-color: #434B5C;\n",
              "      box-shadow: 0px 1px 3px 1px rgba(0, 0, 0, 0.15);\n",
              "      filter: drop-shadow(0px 1px 2px rgba(0, 0, 0, 0.3));\n",
              "      fill: #FFFFFF;\n",
              "    }\n",
              "  </style>\n",
              "\n",
              "      <script>\n",
              "        const buttonEl =\n",
              "          document.querySelector('#df-68d1e10a-30ae-49a1-9a14-79093ef1b3e7 button.colab-df-convert');\n",
              "        buttonEl.style.display =\n",
              "          google.colab.kernel.accessAllowed ? 'block' : 'none';\n",
              "\n",
              "        async function convertToInteractive(key) {\n",
              "          const element = document.querySelector('#df-68d1e10a-30ae-49a1-9a14-79093ef1b3e7');\n",
              "          const dataTable =\n",
              "            await google.colab.kernel.invokeFunction('convertToInteractive',\n",
              "                                                     [key], {});\n",
              "          if (!dataTable) return;\n",
              "\n",
              "          const docLinkHtml = 'Like what you see? Visit the ' +\n",
              "            '<a target=\"_blank\" href=https://colab.research.google.com/notebooks/data_table.ipynb>data table notebook</a>'\n",
              "            + ' to learn more about interactive tables.';\n",
              "          element.innerHTML = '';\n",
              "          dataTable['output_type'] = 'display_data';\n",
              "          await google.colab.output.renderOutput(dataTable, element);\n",
              "          const docLink = document.createElement('div');\n",
              "          docLink.innerHTML = docLinkHtml;\n",
              "          element.appendChild(docLink);\n",
              "        }\n",
              "      </script>\n",
              "    </div>\n",
              "  </div>\n",
              "  "
            ],
            "text/plain": [
              "       Linguagem    pontos\n",
              "0         Python   30.21 %\n",
              "1           Java   17.82 %\n",
              "2     JavaScript    9.16 %\n",
              "3             C#    7.53 %\n",
              "4          C/C++    6.82 %\n",
              "5            PHP    5.84 %\n",
              "6              R    3.81 %\n",
              "7          Swift    2.03 %\n",
              "8    Objective-C    2.02 %\n",
              "9         Matlab    1.73 %\n",
              "10    TypeScript    1.63 %\n",
              "11            Go    1.52 %\n",
              "12        Kotlin    1.44 %\n",
              "13           VBA    1.27 %\n",
              "14          Rust    0.94 %\n",
              "15          Ruby    0.89 %\n",
              "16           Ada    0.86 %\n",
              "17         Scala    0.63 %\n",
              "18          Dart    0.61 %\n",
              "19          Abap    0.55 %\n",
              "20  Visual Basic    0.53 %\n",
              "21        Groovy    0.48 %\n",
              "22           Lua    0.47 %\n",
              "23         Julia    0.36 %\n",
              "24          Perl     0.3 %\n",
              "25       Haskell    0.28 %\n",
              "26         Cobol    0.26 %"
            ]
          },
          "metadata": {},
          "execution_count": 17
        }
      ]
    },
    {
      "cell_type": "markdown",
      "source": [
        "#Recomendações\n",
        "Precisa estudar um pouco de HTML para saber fazer essa raspagem de dados. Utilize o botão 'inspecionar' do navegador."
      ],
      "metadata": {
        "id": "pmOBxwLRnMeA"
      }
    }
  ]
}