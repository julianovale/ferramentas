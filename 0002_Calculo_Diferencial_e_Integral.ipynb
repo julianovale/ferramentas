{
  "nbformat": 4,
  "nbformat_minor": 0,
  "metadata": {
    "colab": {
      "name": "0002_Calculo_Diferencial_e_Integral.ipynb",
      "provenance": [],
      "collapsed_sections": [],
      "authorship_tag": "ABX9TyNYgSA4dZKaLRl1nZPaF3Gf",
      "include_colab_link": true
    },
    "kernelspec": {
      "name": "python3",
      "display_name": "Python 3"
    },
    "language_info": {
      "name": "python"
    }
  },
  "cells": [
    {
      "cell_type": "markdown",
      "metadata": {
        "id": "view-in-github",
        "colab_type": "text"
      },
      "source": [
        "<a href=\"https://colab.research.google.com/github/julianovale/ferramentas/blob/main/0002_Calculo_Diferencial_e_Integral.ipynb\" target=\"_parent\"><img src=\"https://colab.research.google.com/assets/colab-badge.svg\" alt=\"Open In Colab\"/></a>"
      ]
    },
    {
      "cell_type": "markdown",
      "metadata": {
        "id": "4ZmTX-o_wb89"
      },
      "source": [
        "# Cálculo Diferencial e Integral"
      ]
    },
    {
      "cell_type": "code",
      "metadata": {
        "id": "NxfycKundun-"
      },
      "source": [
        "from sympy import *"
      ],
      "execution_count": 5,
      "outputs": []
    },
    {
      "cell_type": "code",
      "metadata": {
        "id": "UCbH2h_Rv_tq"
      },
      "source": [
        "x, y, z = symbols('x y z')\n",
        "init_printing(use_unicode = True)"
      ],
      "execution_count": 6,
      "outputs": []
    },
    {
      "cell_type": "code",
      "metadata": {
        "id": "buU-4ngYw1eC"
      },
      "source": [
        "# Derivadas:  "
      ],
      "execution_count": null,
      "outputs": []
    },
    {
      "cell_type": "code",
      "metadata": {
        "colab": {
          "base_uri": "https://localhost:8080/",
          "height": 37
        },
        "id": "Gmb_l2a8wYzD",
        "outputId": "cc1ad874-84a2-40b6-f410-a2bf91367cc9"
      },
      "source": [
        "diff(5*x**3+cos(x))"
      ],
      "execution_count": 11,
      "outputs": [
        {
          "output_type": "execute_result",
          "data": {
            "image/png": "[encoded data removed]",
            "text/latex": "$\\displaystyle 15 x^{2} - \\sin{\\left(x \\right)}$",
            "text/plain": [
              "    2         \n",
              "15⋅x  - sin(x)"
            ]
          },
          "metadata": {
            "tags": []
          },
          "execution_count": 11
        }
      ]
    },
    {
      "cell_type": "code",
      "metadata": {
        "colab": {
          "base_uri": "https://localhost:8080/",
          "height": 37
        },
        "id": "o3tp9GLlxcy8",
        "outputId": "b4077e87-51cb-4b45-df9a-e7a277048847"
      },
      "source": [
        "# ou:\n",
        "\n",
        "diff(5*x**3+cos(x), x)"
      ],
      "execution_count": 14,
      "outputs": [
        {
          "output_type": "execute_result",
          "data": {
            "image/png": "[encoded data removed]",
            "text/latex": "$\\displaystyle 15 x^{2} - \\sin{\\left(x \\right)}$",
            "text/plain": [
              "    2         \n",
              "15⋅x  - sin(x)"
            ]
          },
          "metadata": {
            "tags": []
          },
          "execution_count": 14
        }
      ]
    },
    {
      "cell_type": "code",
      "metadata": {
        "colab": {
          "base_uri": "https://localhost:8080/",
          "height": 37
        },
        "id": "5ekGTvvPwxkm",
        "outputId": "548812c7-a4e9-4b72-fd28-7c874560f12e"
      },
      "source": [
        "diff(x**3) # primeira derivada"
      ],
      "execution_count": 12,
      "outputs": [
        {
          "output_type": "execute_result",
          "data": {
            "image/png": "[encoded data removed]",
            "text/latex": "$\\displaystyle 3 x^{2}$",
            "text/plain": [
              "   2\n",
              "3⋅x "
            ]
          },
          "metadata": {
            "tags": []
          },
          "execution_count": 12
        }
      ]
    },
    {
      "cell_type": "code",
      "metadata": {
        "colab": {
          "base_uri": "https://localhost:8080/",
          "height": 37
        },
        "id": "x6YvGqbJw9H6",
        "outputId": "aac33853-e8f6-4701-e887-2c4e9d950a3d"
      },
      "source": [
        "diff(diff(x**3)) # segunda derivada"
      ],
      "execution_count": 13,
      "outputs": [
        {
          "output_type": "execute_result",
          "data": {
            "image/png": "[encoded data removed]",
            "text/latex": "$\\displaystyle 6 x$",
            "text/plain": [
              "6⋅x"
            ]
          },
          "metadata": {
            "tags": []
          },
          "execution_count": 13
        }
      ]
    },
    {
      "cell_type": "code",
      "metadata": {
        "id": "WENfyYb4xIm6"
      },
      "source": [
        "# Integrada:"
      ],
      "execution_count": null,
      "outputs": []
    },
    {
      "cell_type": "code",
      "metadata": {
        "colab": {
          "base_uri": "https://localhost:8080/",
          "height": 37
        },
        "id": "YSoA5HwixLEl",
        "outputId": "713a24a2-e60c-4064-8a55-82754b362419"
      },
      "source": [
        "integrate(15*x**2-sin(x))"
      ],
      "execution_count": 10,
      "outputs": [
        {
          "output_type": "execute_result",
          "data": {
            "image/png": "[encoded data removed]",
            "text/latex": "$\\displaystyle 5 x^{3} + \\cos{\\left(x \\right)}$",
            "text/plain": [
              "   3         \n",
              "5⋅x  + cos(x)"
            ]
          },
          "metadata": {
            "tags": []
          },
          "execution_count": 10
        }
      ]
    }
  ]
}